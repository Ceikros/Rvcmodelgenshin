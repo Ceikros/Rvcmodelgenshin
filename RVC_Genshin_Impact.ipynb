{
  "cells": [
    {
      "cell_type": "markdown",
      "metadata": {
        "id": "view-in-github",
        "colab_type": "text"
      },
      "source": [
        "<a href=\"https://colab.research.google.com/github/Ceikros/Rvcmodelgenshin/blob/main/RVC_Genshin_Impact.ipynb\" target=\"_parent\"><img src=\"https://colab.research.google.com/assets/colab-badge.svg\" alt=\"Open In Colab\"/></a>"
      ]
    },
    {
      "cell_type": "markdown",
      "metadata": {
        "id": "OcdCBwP83dFe"
      },
      "source": [
        "<div align=\"center\">\n",
        "\n",
        "# RVC Genshin Impact\n",
        "</div>\n",
        "\n",
        "----\n",
        "Google has recently taken actions to restrict the usage of the RVC code, I'm not sure how long this RVC will last.<br/>It appears that instead of directly blocking the code, they are limiting access to various resources.\n",
        "\n",
        "----\n",
        "##### Changelog 2023.11.8\n",
        "- Fix CLI Infer due to missing genshin data"
      ]
    },
    {
      "cell_type": "markdown",
      "source": [
        "# Pick your choice to use the infer (CLI Infer or New Infer)"
      ],
      "metadata": {
        "id": "ba_oDZiGvY_r"
      }
    },
    {
      "cell_type": "markdown",
      "metadata": {
        "id": "xqjJZC2FlHTW"
      },
      "source": [
        "# CLI Infer (Recommended)"
      ]
    },
    {
      "cell_type": "markdown",
      "source": [
        "### How to Use?\n",
        "\n",
        "1. Click the cell number 1 & 2.\n",
        "2. Use youtube link as audio input or Upload song on Infer\\SONG_INPUT using Google Colab Files Explorer then input name file of the file that you've uploaded to that folder.\n",
        "3. Click the cell number 3.\n",
        "4. Wait until its done,\n",
        "5. Done."
      ],
      "metadata": {
        "id": "UJfdihUNjlse"
      }
    },
    {
      "cell_type": "code",
      "execution_count": null,
      "metadata": {
        "cellView": "form",
        "id": "Jwqk3KzAiB8m",
        "colab": {
          "base_uri": "https://localhost:8080/"
        },
        "outputId": "e32df1d0-8687-417a-b22b-01eaf44d08f0"
      },
      "outputs": [
        {
          "output_type": "stream",
          "name": "stdout",
          "text": [
            "Cloning into 'Infer'...\n",
            "remote: Enumerating objects: 342, done.\u001b[K\n",
            "remote: Counting objects: 100% (212/212), done.\u001b[K\n",
            "remote: Compressing objects: 100% (42/42), done.\u001b[K\n",
            "remote: Total 342 (delta 193), reused 170 (delta 170), pack-reused 130\u001b[K\n",
            "Receiving objects: 100% (342/342), 1.81 MiB | 26.41 MiB/s, done.\n",
            "Resolving deltas: 100% (214/214), done.\n",
            "\n",
            "Download Results:\n",
            "gid   |stat|avg speed  |path/URI\n",
            "======+====+===========+=======================================================\n",
            "b14f42|\u001b[1;32mOK\u001b[0m  |   1.7MiB/s|/content/rvc-genshin-model/genshin_model.json\n",
            "\n",
            "Status Legend:\n",
            "(OK):download completed.\n",
            "/content/rvc-inference-new/Infer\n",
            "\u001b[2K     \u001b[90m━━━━━━━━━━━━━━━━━━━━━━━━━━━━━━━━━━━━━━━━\u001b[0m \u001b[32m52.0/52.0 kB\u001b[0m \u001b[31m1.4 MB/s\u001b[0m eta \u001b[36m0:00:00\u001b[0m\n",
            "\u001b[?25h  Installing build dependencies ... \u001b[?25l\u001b[?25hdone\n",
            "  Getting requirements to build wheel ... \u001b[?25l\u001b[?25hdone\n",
            "  Installing backend dependencies ... \u001b[?25l\u001b[?25hdone\n",
            "  Preparing metadata (pyproject.toml) ... \u001b[?25l\u001b[?25hdone\n",
            "\u001b[2K     \u001b[90m━━━━━━━━━━━━━━━━━━━━━━━━━━━━━━━━━━━━━━━━\u001b[0m \u001b[32m252.0/252.0 kB\u001b[0m \u001b[31m17.1 MB/s\u001b[0m eta \u001b[36m0:00:00\u001b[0m\n",
            "\u001b[?25h  Installing build dependencies ... \u001b[?25l\u001b[?25hdone\n",
            "  Getting requirements to build wheel ... \u001b[?25l\u001b[?25hdone\n",
            "  Preparing metadata (pyproject.toml) ... \u001b[?25l\u001b[?25hdone\n",
            "\u001b[2K     \u001b[90m━━━━━━━━━━━━━━━━━━━━━━━━━━━━━━━━━━━━━━━━\u001b[0m \u001b[32m59.1/59.1 kB\u001b[0m \u001b[31m3.9 MB/s\u001b[0m eta \u001b[36m0:00:00\u001b[0m\n",
            "\u001b[2K     \u001b[90m━━━━━━━━━━━━━━━━━━━━━━━━━━━━━━━━━━━━━━━━\u001b[0m \u001b[32m2.3/2.3 GB\u001b[0m \u001b[31m979.1 kB/s\u001b[0m eta \u001b[36m0:00:00\u001b[0m\n",
            "\u001b[2K     \u001b[90m━━━━━━━━━━━━━━━━━━━━━━━━━━━━━━━━━━━━━━━━\u001b[0m \u001b[32m77.1/77.1 kB\u001b[0m \u001b[31m6.6 MB/s\u001b[0m eta \u001b[36m0:00:00\u001b[0m\n",
            "\u001b[2K     \u001b[90m━━━━━━━━━━━━━━━━━━━━━━━━━━━━━━━━━━━━━━━━\u001b[0m \u001b[32m158.0/158.0 kB\u001b[0m \u001b[31m11.7 MB/s\u001b[0m eta \u001b[36m0:00:00\u001b[0m\n",
            "\u001b[?25h  Preparing metadata (setup.py) ... \u001b[?25l\u001b[?25hdone\n",
            "\u001b[2K     \u001b[90m━━━━━━━━━━━━━━━━━━━━━━━━━━━━━━━━━━━━━━━━\u001b[0m \u001b[32m50.5/50.5 kB\u001b[0m \u001b[31m4.0 MB/s\u001b[0m eta \u001b[36m0:00:00\u001b[0m\n",
            "\u001b[2K     \u001b[90m━━━━━━━━━━━━━━━━━━━━━━━━━━━━━━━━━━━━━━━━\u001b[0m \u001b[32m63.3/63.3 MB\u001b[0m \u001b[31m12.1 MB/s\u001b[0m eta \u001b[36m0:00:00\u001b[0m\n",
            "\u001b[2K     \u001b[90m━━━━━━━━━━━━━━━━━━━━━━━━━━━━━━━━━━━━━━━━\u001b[0m \u001b[32m153.0/153.0 kB\u001b[0m \u001b[31m10.6 MB/s\u001b[0m eta \u001b[36m0:00:00\u001b[0m\n",
            "\u001b[?25h  Installing build dependencies ... \u001b[?25l\u001b[?25hdone\n",
            "  Getting requirements to build wheel ... \u001b[?25l\u001b[?25hdone\n",
            "  Installing backend dependencies ... \u001b[?25l\u001b[?25hdone\n",
            "  Preparing metadata (pyproject.toml) ... \u001b[?25l\u001b[?25hdone\n",
            "\u001b[2K     \u001b[90m━━━━━━━━━━━━━━━━━━━━━━━━━━━━━━━━━━━━━━━━\u001b[0m \u001b[32m46.0/46.0 kB\u001b[0m \u001b[31m3.1 MB/s\u001b[0m eta \u001b[36m0:00:00\u001b[0m\n",
            "\u001b[2K     \u001b[90m━━━━━━━━━━━━━━━━━━━━━━━━━━━━━━━━━━━━━━━━\u001b[0m \u001b[32m112.4/112.4 kB\u001b[0m \u001b[31m8.0 MB/s\u001b[0m eta \u001b[36m0:00:00\u001b[0m\n",
            "\u001b[?25h  Preparing metadata (setup.py) ... \u001b[?25l\u001b[?25hdone\n",
            "\u001b[2K     \u001b[90m━━━━━━━━━━━━━━━━━━━━━━━━━━━━━━━━━━━━━━━━\u001b[0m \u001b[32m50.4/50.4 kB\u001b[0m \u001b[31m3.2 MB/s\u001b[0m eta \u001b[36m0:00:00\u001b[0m\n",
            "\u001b[2K     \u001b[90m━━━━━━━━━━━━━━━━━━━━━━━━━━━━━━━━━━━━━━━━\u001b[0m \u001b[32m46.5/46.5 kB\u001b[0m \u001b[31m3.4 MB/s\u001b[0m eta \u001b[36m0:00:00\u001b[0m\n",
            "\u001b[2K     \u001b[90m━━━━━━━━━━━━━━━━━━━━━━━━━━━━━━━━━━━━━━━━\u001b[0m \u001b[32m43.7/43.7 kB\u001b[0m \u001b[31m2.8 MB/s\u001b[0m eta \u001b[36m0:00:00\u001b[0m\n",
            "\u001b[2K     \u001b[90m━━━━━━━━━━━━━━━━━━━━━━━━━━━━━━━━━━━━━━━━\u001b[0m \u001b[32m41.0/41.0 kB\u001b[0m \u001b[31m2.5 MB/s\u001b[0m eta \u001b[36m0:00:00\u001b[0m\n",
            "\u001b[2K     \u001b[90m━━━━━━━━━━━━━━━━━━━━━━━━━━━━━━━━━━━━━━━━\u001b[0m \u001b[32m41.0/41.0 kB\u001b[0m \u001b[31m2.6 MB/s\u001b[0m eta \u001b[36m0:00:00\u001b[0m\n",
            "\u001b[2K     \u001b[90m━━━━━━━━━━━━━━━━━━━━━━━━━━━━━━━━━━━━━━━━\u001b[0m \u001b[32m84.5/84.5 kB\u001b[0m \u001b[31m6.9 MB/s\u001b[0m eta \u001b[36m0:00:00\u001b[0m\n",
            "\u001b[2K     \u001b[90m━━━━━━━━━━━━━━━━━━━━━━━━━━━━━━━━━━━━━━━━\u001b[0m \u001b[32m1.6/1.6 MB\u001b[0m \u001b[31m36.2 MB/s\u001b[0m eta \u001b[36m0:00:00\u001b[0m\n",
            "\u001b[2K     \u001b[90m━━━━━━━━━━━━━━━━━━━━━━━━━━━━━━━━━━━━━━━━\u001b[0m \u001b[32m1.6/1.6 MB\u001b[0m \u001b[31m34.8 MB/s\u001b[0m eta \u001b[36m0:00:00\u001b[0m\n",
            "\u001b[2K     \u001b[90m━━━━━━━━━━━━━━━━━━━━━━━━━━━━━━━━━━━━━━━━\u001b[0m \u001b[32m3.3/3.3 MB\u001b[0m \u001b[31m37.7 MB/s\u001b[0m eta \u001b[36m0:00:00\u001b[0m\n",
            "\u001b[2K     \u001b[90m━━━━━━━━━━━━━━━━━━━━━━━━━━━━━━━━━━━━━━━━\u001b[0m \u001b[32m3.2/3.2 MB\u001b[0m \u001b[31m75.4 MB/s\u001b[0m eta \u001b[36m0:00:00\u001b[0m\n",
            "\u001b[2K     \u001b[90m━━━━━━━━━━━━━━━━━━━━━━━━━━━━━━━━━━━━━━━━\u001b[0m \u001b[32m1.6/1.6 MB\u001b[0m \u001b[31m40.6 MB/s\u001b[0m eta \u001b[36m0:00:00\u001b[0m\n",
            "\u001b[2K     \u001b[90m━━━━━━━━━━━━━━━━━━━━━━━━━━━━━━━━━━━━━━━━\u001b[0m \u001b[32m1.6/1.6 MB\u001b[0m \u001b[31m73.1 MB/s\u001b[0m eta \u001b[36m0:00:00\u001b[0m\n",
            "\u001b[2K     \u001b[90m━━━━━━━━━━━━━━━━━━━━━━━━━━━━━━━━━━━━━━━━\u001b[0m \u001b[32m1.6/1.6 MB\u001b[0m \u001b[31m29.6 MB/s\u001b[0m eta \u001b[36m0:00:00\u001b[0m\n",
            "\u001b[2K     \u001b[90m━━━━━━━━━━━━━━━━━━━━━━━━━━━━━━━━━━━━━━━━\u001b[0m \u001b[32m3.3/3.3 MB\u001b[0m \u001b[31m72.6 MB/s\u001b[0m eta \u001b[36m0:00:00\u001b[0m\n",
            "\u001b[2K     \u001b[90m━━━━━━━━━━━━━━━━━━━━━━━━━━━━━━━━━━━━━━━━\u001b[0m \u001b[32m1.6/1.6 MB\u001b[0m \u001b[31m37.7 MB/s\u001b[0m eta \u001b[36m0:00:00\u001b[0m\n",
            "\u001b[2K     \u001b[90m━━━━━━━━━━━━━━━━━━━━━━━━━━━━━━━━━━━━━━━━\u001b[0m \u001b[32m4.1/4.1 MB\u001b[0m \u001b[31m95.2 MB/s\u001b[0m eta \u001b[36m0:00:00\u001b[0m\n",
            "\u001b[2K     \u001b[90m━━━━━━━━━━━━━━━━━━━━━━━━━━━━━━━━━━━━━━━━\u001b[0m \u001b[32m58.3/58.3 kB\u001b[0m \u001b[31m4.5 MB/s\u001b[0m eta \u001b[36m0:00:00\u001b[0m\n",
            "\u001b[2K     \u001b[90m━━━━━━━━━━━━━━━━━━━━━━━━━━━━━━━━━━━━━━━━\u001b[0m \u001b[32m86.8/86.8 kB\u001b[0m \u001b[31m6.9 MB/s\u001b[0m eta \u001b[36m0:00:00\u001b[0m\n",
            "\u001b[2K   \u001b[90m━━━━━━━━━━━━━━━━━━━━━━━━━━━━━━━━━━━━━━━━\u001b[0m \u001b[32m19.9/19.9 MB\u001b[0m \u001b[31m65.8 MB/s\u001b[0m eta \u001b[36m0:00:00\u001b[0m\n",
            "\u001b[2K   \u001b[90m━━━━━━━━━━━━━━━━━━━━━━━━━━━━━━━━━━━━━━━━\u001b[0m \u001b[32m3.3/3.3 MB\u001b[0m \u001b[31m67.8 MB/s\u001b[0m eta \u001b[36m0:00:00\u001b[0m\n",
            "\u001b[2K   \u001b[90m━━━━━━━━━━━━━━━━━━━━━━━━━━━━━━━━━━━━━━━━\u001b[0m \u001b[32m36.3/36.3 MB\u001b[0m \u001b[31m14.8 MB/s\u001b[0m eta \u001b[36m0:00:00\u001b[0m\n",
            "\u001b[2K   \u001b[90m━━━━━━━━━━━━━━━━━━━━━━━━━━━━━━━━━━━━━━━━\u001b[0m \u001b[32m72.3/72.3 MB\u001b[0m \u001b[31m10.3 MB/s\u001b[0m eta \u001b[36m0:00:00\u001b[0m\n",
            "\u001b[2K   \u001b[90m━━━━━━━━━━━━━━━━━━━━━━━━━━━━━━━━━━━━━━━━\u001b[0m \u001b[32m3.0/3.0 MB\u001b[0m \u001b[31m96.8 MB/s\u001b[0m eta \u001b[36m0:00:00\u001b[0m\n",
            "\u001b[2K   \u001b[90m━━━━━━━━━━━━━━━━━━━━━━━━━━━━━━━━━━━━━━━━\u001b[0m \u001b[32m157.1/157.1 MB\u001b[0m \u001b[31m6.6 MB/s\u001b[0m eta \u001b[36m0:00:00\u001b[0m\n",
            "\u001b[2K   \u001b[90m━━━━━━━━━━━━━━━━━━━━━━━━━━━━━━━━━━━━━━━━\u001b[0m \u001b[32m302.7/302.7 kB\u001b[0m \u001b[31m22.7 MB/s\u001b[0m eta \u001b[36m0:00:00\u001b[0m\n",
            "\u001b[2K   \u001b[90m━━━━━━━━━━━━━━━━━━━━━━━━━━━━━━━━━━━━━━━━\u001b[0m \u001b[32m138.7/138.7 kB\u001b[0m \u001b[31m10.9 MB/s\u001b[0m eta \u001b[36m0:00:00\u001b[0m\n",
            "\u001b[2K   \u001b[90m━━━━━━━━━━━━━━━━━━━━━━━━━━━━━━━━━━━━━━━━\u001b[0m \u001b[32m106.4/106.4 kB\u001b[0m \u001b[31m8.8 MB/s\u001b[0m eta \u001b[36m0:00:00\u001b[0m\n",
            "\u001b[2K   \u001b[90m━━━━━━━━━━━━━━━━━━━━━━━━━━━━━━━━━━━━━━━━\u001b[0m \u001b[32m59.7/59.7 kB\u001b[0m \u001b[31m4.7 MB/s\u001b[0m eta \u001b[36m0:00:00\u001b[0m\n",
            "\u001b[2K   \u001b[90m━━━━━━━━━━━━━━━━━━━━━━━━━━━━━━━━━━━━━━━━\u001b[0m \u001b[32m287.4/287.4 kB\u001b[0m \u001b[31m21.2 MB/s\u001b[0m eta \u001b[36m0:00:00\u001b[0m\n",
            "\u001b[2K   \u001b[90m━━━━━━━━━━━━━━━━━━━━━━━━━━━━━━━━━━━━━━━━\u001b[0m \u001b[32m3.0/3.0 MB\u001b[0m \u001b[31m100.7 MB/s\u001b[0m eta \u001b[36m0:00:00\u001b[0m\n",
            "\u001b[2K   \u001b[90m━━━━━━━━━━━━━━━━━━━━━━━━━━━━━━━━━━━━━━━━\u001b[0m \u001b[32m92.9/92.9 kB\u001b[0m \u001b[31m7.8 MB/s\u001b[0m eta \u001b[36m0:00:00\u001b[0m\n",
            "\u001b[2K   \u001b[90m━━━━━━━━━━━━━━━━━━━━━━━━━━━━━━━━━━━━━━━━\u001b[0m \u001b[32m75.0/75.0 kB\u001b[0m \u001b[31m5.8 MB/s\u001b[0m eta \u001b[36m0:00:00\u001b[0m\n",
            "\u001b[2K   \u001b[90m━━━━━━━━━━━━━━━━━━━━━━━━━━━━━━━━━━━━━━━━\u001b[0m \u001b[32m76.9/76.9 kB\u001b[0m \u001b[31m6.1 MB/s\u001b[0m eta \u001b[36m0:00:00\u001b[0m\n",
            "\u001b[2K   \u001b[90m━━━━━━━━━━━━━━━━━━━━━━━━━━━━━━━━━━━━━━━━\u001b[0m \u001b[32m194.4/194.4 kB\u001b[0m \u001b[31m16.2 MB/s\u001b[0m eta \u001b[36m0:00:00\u001b[0m\n",
            "\u001b[2K   \u001b[90m━━━━━━━━━━━━━━━━━━━━━━━━━━━━━━━━━━━━━━━━\u001b[0m \u001b[32m2.1/2.1 MB\u001b[0m \u001b[31m83.1 MB/s\u001b[0m eta \u001b[36m0:00:00\u001b[0m\n",
            "\u001b[2K   \u001b[90m━━━━━━━━━━━━━━━━━━━━━━━━━━━━━━━━━━━━━━━━\u001b[0m \u001b[32m67.0/67.0 kB\u001b[0m \u001b[31m5.4 MB/s\u001b[0m eta \u001b[36m0:00:00\u001b[0m\n",
            "\u001b[?25h  Building wheel for fairseq (pyproject.toml) ... \u001b[?25l\u001b[?25hdone\n",
            "  Building wheel for pyworld (pyproject.toml) ... \u001b[?25l\u001b[?25hdone\n",
            "  Building wheel for antlr4-python3-runtime (setup.py) ... \u001b[?25l\u001b[?25hdone\n",
            "  Building wheel for ffmpy (setup.py) ... \u001b[?25l\u001b[?25hdone\n",
            "  Building wheel for lit (pyproject.toml) ... \u001b[?25l\u001b[?25hdone\n",
            "\u001b[33mDEPRECATION: omegaconf 2.0.6 has a non-standard dependency specifier PyYAML>=5.1.*. pip 24.0 will enforce this behaviour change. A possible replacement is to upgrade to a newer version of omegaconf or contact the author to suggest that they release a version with a conforming dependency specifiers. Discussion can be found at https://github.com/pypa/pip/issues/12063\u001b[0m\u001b[33m\n",
            "\u001b[0m\u001b[31mERROR: pip's dependency resolver does not currently take into account all the packages that are installed. This behaviour is the source of the following dependency conflicts.\n",
            "lida 0.0.10 requires kaleido, which is not installed.\n",
            "tensorflow-probability 0.22.0 requires typing-extensions<4.6.0, but you have typing-extensions 4.8.0 which is incompatible.\n",
            "torchdata 0.7.0 requires torch==2.1.0, but you have torch 2.0.1+cu118 which is incompatible.\n",
            "torchtext 0.16.0 requires torch==2.1.0, but you have torch 2.0.1+cu118 which is incompatible.\n",
            "torchvision 0.16.0+cu118 requires torch==2.1.0, but you have torch 2.0.1+cu118 which is incompatible.\u001b[0m\u001b[31m\n",
            "\u001b[0m\u001b[33mWARNING: Running pip as the 'root' user can result in broken permissions and conflicting behaviour with the system package manager. It is recommended to use a virtual environment instead: https://pip.pypa.io/warnings/venv\u001b[0m\u001b[33m\n",
            "Hit:1 https://cloud.r-project.org/bin/linux/ubuntu jammy-cran40/ InRelease\n",
            "Hit:2 https://developer.download.nvidia.com/compute/cuda/repos/ubuntu2204/x86_64  InRelease\n",
            "Hit:3 http://archive.ubuntu.com/ubuntu jammy InRelease\n",
            "Get:4 http://security.ubuntu.com/ubuntu jammy-security InRelease [110 kB]\n",
            "Get:5 http://archive.ubuntu.com/ubuntu jammy-updates InRelease [119 kB]\n",
            "Get:6 https://ppa.launchpadcontent.net/c2d4u.team/c2d4u4.0+/ubuntu jammy InRelease [18.1 kB]\n",
            "Hit:7 https://ppa.launchpadcontent.net/deadsnakes/ppa/ubuntu jammy InRelease\n",
            "Hit:8 https://ppa.launchpadcontent.net/graphics-drivers/ppa/ubuntu jammy InRelease\n",
            "Hit:9 https://ppa.launchpadcontent.net/ubuntugis/ppa/ubuntu jammy InRelease\n",
            "Hit:10 http://archive.ubuntu.com/ubuntu jammy-backports InRelease\n",
            "Get:11 https://ppa.launchpadcontent.net/c2d4u.team/c2d4u4.0+/ubuntu jammy/main Sources [2,245 kB]\n",
            "Fetched 2,492 kB in 3s (873 kB/s)\n",
            "Reading package lists... Done\n",
            "Building dependency tree... Done\n",
            "Reading state information... Done\n",
            "16 packages can be upgraded. Run 'apt list --upgradable' to see them.\n",
            "Reading package lists... Done\n",
            "Building dependency tree... Done\n",
            "Reading state information... Done\n",
            "The following additional packages will be installed:\n",
            "  libopencore-amrnb0 libopencore-amrwb0 libsox-fmt-alsa libsox-fmt-base\n",
            "  libsox3 libwavpack1\n",
            "Suggested packages:\n",
            "  libsox-fmt-all\n",
            "The following NEW packages will be installed:\n",
            "  libopencore-amrnb0 libopencore-amrwb0 libsox-fmt-alsa libsox-fmt-base\n",
            "  libsox3 libwavpack1 sox\n",
            "0 upgraded, 7 newly installed, 0 to remove and 16 not upgraded.\n",
            "Need to get 617 kB of archives.\n",
            "After this operation, 1,764 kB of additional disk space will be used.\n",
            "Get:1 http://archive.ubuntu.com/ubuntu jammy/universe amd64 libopencore-amrnb0 amd64 0.1.5-1 [94.8 kB]\n",
            "Get:2 http://archive.ubuntu.com/ubuntu jammy/universe amd64 libopencore-amrwb0 amd64 0.1.5-1 [49.1 kB]\n",
            "Get:3 http://archive.ubuntu.com/ubuntu jammy-updates/universe amd64 libsox3 amd64 14.4.2+git20190427-2+deb11u2ubuntu0.22.04.1 [240 kB]\n",
            "Get:4 http://archive.ubuntu.com/ubuntu jammy-updates/universe amd64 libsox-fmt-alsa amd64 14.4.2+git20190427-2+deb11u2ubuntu0.22.04.1 [11.2 kB]\n",
            "Get:5 http://archive.ubuntu.com/ubuntu jammy/main amd64 libwavpack1 amd64 5.4.0-1build2 [83.7 kB]\n",
            "Get:6 http://archive.ubuntu.com/ubuntu jammy-updates/universe amd64 libsox-fmt-base amd64 14.4.2+git20190427-2+deb11u2ubuntu0.22.04.1 [33.7 kB]\n",
            "Get:7 http://archive.ubuntu.com/ubuntu jammy-updates/universe amd64 sox amd64 14.4.2+git20190427-2+deb11u2ubuntu0.22.04.1 [104 kB]\n",
            "Fetched 617 kB in 2s (275 kB/s)\n",
            "debconf: unable to initialize frontend: Dialog\n",
            "debconf: (No usable dialog-like program is installed, so the dialog based frontend cannot be used. at /usr/share/perl5/Debconf/FrontEnd/Dialog.pm line 78, <> line 7.)\n",
            "debconf: falling back to frontend: Readline\n",
            "debconf: unable to initialize frontend: Readline\n",
            "debconf: (This frontend requires a controlling tty.)\n",
            "debconf: falling back to frontend: Teletype\n",
            "dpkg-preconfigure: unable to re-open stdin: \n",
            "Selecting previously unselected package libopencore-amrnb0:amd64.\n",
            "(Reading database ... 120956 files and directories currently installed.)\n",
            "Preparing to unpack .../0-libopencore-amrnb0_0.1.5-1_amd64.deb ...\n",
            "Unpacking libopencore-amrnb0:amd64 (0.1.5-1) ...\n",
            "Selecting previously unselected package libopencore-amrwb0:amd64.\n",
            "Preparing to unpack .../1-libopencore-amrwb0_0.1.5-1_amd64.deb ...\n",
            "Unpacking libopencore-amrwb0:amd64 (0.1.5-1) ...\n",
            "Selecting previously unselected package libsox3:amd64.\n",
            "Preparing to unpack .../2-libsox3_14.4.2+git20190427-2+deb11u2ubuntu0.22.04.1_amd64.deb ...\n",
            "Unpacking libsox3:amd64 (14.4.2+git20190427-2+deb11u2ubuntu0.22.04.1) ...\n",
            "Selecting previously unselected package libsox-fmt-alsa:amd64.\n",
            "Preparing to unpack .../3-libsox-fmt-alsa_14.4.2+git20190427-2+deb11u2ubuntu0.22.04.1_amd64.deb ...\n",
            "Unpacking libsox-fmt-alsa:amd64 (14.4.2+git20190427-2+deb11u2ubuntu0.22.04.1) ...\n",
            "Selecting previously unselected package libwavpack1:amd64.\n",
            "Preparing to unpack .../4-libwavpack1_5.4.0-1build2_amd64.deb ...\n",
            "Unpacking libwavpack1:amd64 (5.4.0-1build2) ...\n",
            "Selecting previously unselected package libsox-fmt-base:amd64.\n",
            "Preparing to unpack .../5-libsox-fmt-base_14.4.2+git20190427-2+deb11u2ubuntu0.22.04.1_amd64.deb ...\n",
            "Unpacking libsox-fmt-base:amd64 (14.4.2+git20190427-2+deb11u2ubuntu0.22.04.1) ...\n",
            "Selecting previously unselected package sox.\n",
            "Preparing to unpack .../6-sox_14.4.2+git20190427-2+deb11u2ubuntu0.22.04.1_amd64.deb ...\n",
            "Unpacking sox (14.4.2+git20190427-2+deb11u2ubuntu0.22.04.1) ...\n",
            "Setting up libsox3:amd64 (14.4.2+git20190427-2+deb11u2ubuntu0.22.04.1) ...\n",
            "Setting up libopencore-amrwb0:amd64 (0.1.5-1) ...\n",
            "Setting up libsox-fmt-alsa:amd64 (14.4.2+git20190427-2+deb11u2ubuntu0.22.04.1) ...\n",
            "Setting up libwavpack1:amd64 (5.4.0-1build2) ...\n",
            "Setting up libopencore-amrnb0:amd64 (0.1.5-1) ...\n",
            "Setting up libsox-fmt-base:amd64 (14.4.2+git20190427-2+deb11u2ubuntu0.22.04.1) ...\n",
            "Setting up sox (14.4.2+git20190427-2+deb11u2ubuntu0.22.04.1) ...\n",
            "Processing triggers for man-db (2.10.2-1) ...\n",
            "Processing triggers for libc-bin (2.35-0ubuntu3.4) ...\n",
            "/sbin/ldconfig.real: /usr/local/lib/libtbbbind.so.3 is not a symbolic link\n",
            "\n",
            "/sbin/ldconfig.real: /usr/local/lib/libtbbbind_2_0.so.3 is not a symbolic link\n",
            "\n",
            "/sbin/ldconfig.real: /usr/local/lib/libtbbmalloc_proxy.so.2 is not a symbolic link\n",
            "\n",
            "/sbin/ldconfig.real: /usr/local/lib/libtbbbind_2_5.so.3 is not a symbolic link\n",
            "\n",
            "/sbin/ldconfig.real: /usr/local/lib/libtbb.so.12 is not a symbolic link\n",
            "\n",
            "/sbin/ldconfig.real: /usr/local/lib/libtbbmalloc.so.2 is not a symbolic link\n",
            "\n"
          ]
        }
      ],
      "source": [
        "#@title 1. Clone Repository & Install Requirement\n",
        "\n",
        "!git clone https://github.com/ArkanDash/Infer.git\n",
        "!apt-get install -qq -y aria2\n",
        "!aria2c --console-log-level=error -c -x 16 -s 16 -k 1M \"https://raw.githubusercontent.com/ArkanDash/rvc-genshin-model/master/genshin_model.json\" -d \"/content/rvc-genshin-model\"\n",
        "%cd Infer\n",
        "!pip install -q -r requirements.txt\n",
        "!sudo apt update\n",
        "!sudo apt install sox"
      ]
    },
    {
      "cell_type": "code",
      "execution_count": null,
      "metadata": {
        "id": "uobOFYYgii_S",
        "colab": {
          "base_uri": "https://localhost:8080/"
        },
        "outputId": "a4f3b959-a563-4ce8-b43c-ee7083108d12"
      },
      "outputs": [
        {
          "output_type": "stream",
          "name": "stdout",
          "text": [
            "Downloading UVR-MDX-NET-Voc_FT.onnx...\n",
            "Downloading UVR_MDXNET_KARA_2.onnx...\n",
            "Downloading Reverb_HQ_By_FoxJoy.onnx...\n",
            "Downloading hubert_base.pt...\n",
            "Downloading rmvpe.pt...\n",
            "All models downloaded!\n"
          ]
        }
      ],
      "source": [
        "#@title 2. Download MDXNet Vocal Separation and Hubert Base Models\n",
        "!python src/download_models.py"
      ]
    },
    {
      "cell_type": "code",
      "execution_count": null,
      "metadata": {
        "cellView": "form",
        "id": "thBTEZCzjUog"
      },
      "outputs": [],
      "source": [
        "# @title 3. Generate (For output look below)\n",
        "\n",
        "# @markdown You can use youtube link or upload your audio file on Infer/SONG_INPUT<br />\n",
        "# @markdown Example: audio.wav, https://www.youtube.com/watch?v=4wwi-wdpeck\n",
        "SONG_INPUT = \"https://www.youtube.com/watch?v=76sNmqMzUuI\" # @param {type:\"string\"}\n",
        "CHARACTER = \"ayato-jp\" # @param [\"ayaka-jp\",\"ayato-jp\",\"diluc-jp\",\"eula-jp\",\"fischl-jp\",\"ganyu-jp\",\"hutao-jp\",\"kaeya-jp\",\"keqing-jp\",\"klee-jp\",\"kokomi-jp\",\"mona-jp\",\"nahida-jp\",\"nilou-jp\",\"wanderer-jp\",\"yaemiko-jp\",\"yelan-jp\",\"yoimiya-jp\",\"zhongli-jp\",\"aether-jp-v2\",\"albedo-jp-v2\",\"alhaitam-jp-v2\",\"amber-jp-v2\",\"ayaka-jp-v2\",\"bennett-jp-v2\",\"charlotte-jp-v2\",\"chongyun-jp-v2\",\"cyno-jp-v2\",\"dehya-jp-v2\",\"diona-jp-v2\",\"faruzan-jp-v2\",\"furina-jp-v2\",\"greaterLordRukkhadevata-jp-v2\",\"itto-jp-v2\",\"kaveh-jp-v2\",\"kazuha-jp-v2\",\"kuki-jp-v2\",\"lisa-jp-v2\",\"lumine-jp-v2\",\"lyney-jp-v2\",\"nahida-jp-v2\",\"navia-jp-v2\",\"nilou-jp-v2\",\"ningguang-jp-v2\",\"noelle-jp-v2\",\"paimon-jp-v2\",\"qiqi-jp-v2\",\"raiden-jp-v2\",\"razor-jp-v2\",\"sara-jp-v2\",\"shenhe-jp-v2\",\"signora-jp-v2\",\"venti-jp-v2\",\"xiao-jp-v2\",\"yanfei-jp-v2\",\"zhongli-jp-v2\"]\n",
        "\n",
        "# @markdown Audio Editor Options\n",
        "PITCH_CHANGE = 0 # @param {type:\"integer\"}\n",
        "PITCH_CHANGE_ALL = 0 # @param {type:\"integer\"}\n",
        "# @markdown Voice Conversion Options\n",
        "INDEX_RATE = 0.6 # @param {type:\"number\"}\n",
        "FILTER_RADIUS = 3 # @param {type:\"integer\"}\n",
        "PITCH_DETECTION_ALGO = \"crepe\" # @param [\"pm\", \"harvest\", \"rmvpe\", \"crepe\", \"mangio-crepe\"]\n",
        "CREPE_HOP_LENGTH = 128 # @param {type:\"integer\"}\n",
        "PROTECT = 0.5 # @param {type:\"number\"}\n",
        "REMIX_MIX_RATE = 0.25  # @param {type:\"number\"}\n",
        "# @markdown Audio Mixing Options\n",
        "MAIN_VOL = 0 # @param {type:\"integer\"}\n",
        "BACKUP_VOL = 0 # @param {type:\"integer\"}\n",
        "INST_VOL = 0 # @param {type:\"integer\"}\n",
        "# @markdown Reverb Control\n",
        "REVERB_SIZE = 0.15 # @param {type:\"number\"}\n",
        "REVERB_WETNESS = 0.2 # @param {type:\"number\"}\n",
        "REVERB_DRYNESS = 0.8 # @param {type:\"number\"}\n",
        "REVERB_DAMPING = 0.7 # @param {type:\"number\"}\n",
        "# @markdown Output Format\n",
        "OUTPUT_FORMAT = \"wav\" # @param [\"mp3\", \"wav\"]\n",
        "\n",
        "import subprocess\n",
        "import json\n",
        "import os\n",
        "import zipfile\n",
        "import glob\n",
        "import shutil\n",
        "\n",
        "def extract_zip(zip_file, target_folder):\n",
        "    with zipfile.ZipFile(zip_file, 'r') as zip_ref:\n",
        "        zip_ref.extractall(target_folder)\n",
        "\n",
        "def move_folder_contents(src, dest):\n",
        "    src_contents = os.listdir(src)\n",
        "    for item in src_contents:\n",
        "        src_item = os.path.join(src, item)\n",
        "        dest_item = os.path.join(dest, item)\n",
        "        if os.path.isdir(src_item):\n",
        "            shutil.move(src_item, dest_item)\n",
        "        else:\n",
        "            shutil.move(src_item, dest)\n",
        "\n",
        "with open('/content/rvc-genshin-model/genshin_model.json', 'r') as file:\n",
        "    data = json.load(file)\n",
        "\n",
        "if not os.path.exists(f\"rvc_models/{CHARACTER}\"):\n",
        "  models = data[\"model_data\"]\n",
        "  for item in models:\n",
        "    if CHARACTER == item[1]:\n",
        "      subprocess.run(['mkdir', f'rvc_models/{item[1]}'])\n",
        "      folder_path = f'rvc_models/{item[1]}'\n",
        "      subprocess.run(['wget', '-P', folder_path, item[2]])\n",
        "      zip_files = glob.glob(os.path.join(folder_path, \"*.zip\"))\n",
        "      if len(zip_files) == 1:\n",
        "        zip_file = zip_files[0]\n",
        "        extract_zip(zip_file, folder_path)\n",
        "        os.remove(zip_file)\n",
        "        subfolders = [f for f in os.listdir(folder_path) if os.path.isdir(os.path.join(folder_path, f))]\n",
        "        if len(subfolders) == 1:\n",
        "          subfolder = subfolders[0]\n",
        "          move_folder_contents(os.path.join(folder_path, subfolder), folder_path)\n",
        "          os.rmdir(os.path.join(folder_path, subfolder))\n",
        "        else:\n",
        "          print(\"Error: Multiple zip files found.\")\n",
        "else:\n",
        "    print(f\"The model for {CHARACTER} already exists in rvc_models.\")\n",
        "\n",
        "command = [\n",
        "    \"python\",\n",
        "    \"src/main.py\",\n",
        "    \"-i\", SONG_INPUT,\n",
        "    \"-dir\", CHARACTER,\n",
        "    \"-p\", str(PITCH_CHANGE),\n",
        "    \"-k\",\n",
        "    \"-ir\", str(INDEX_RATE),\n",
        "    \"-fr\", str(FILTER_RADIUS),\n",
        "    \"-rms\", str(REMIX_MIX_RATE),\n",
        "    \"-palgo\", PITCH_DETECTION_ALGO,\n",
        "    \"-hop\", str(CREPE_HOP_LENGTH),\n",
        "    \"-pro\", str(PROTECT),\n",
        "    \"-mv\", str(MAIN_VOL),\n",
        "    \"-bv\", str(BACKUP_VOL),\n",
        "    \"-iv\", str(INST_VOL),\n",
        "    \"-pall\", str(PITCH_CHANGE_ALL),\n",
        "    \"-rsize\", str(REVERB_SIZE),\n",
        "    \"-rwet\", str(REVERB_WETNESS),\n",
        "    \"-rdry\", str(REVERB_DRYNESS),\n",
        "    \"-rdamp\", str(REVERB_DAMPING),\n",
        "    \"-oformat\", OUTPUT_FORMAT\n",
        "]\n",
        "\n",
        "# Open a subprocess and capture its output\n",
        "process = subprocess.Popen(command, stdout=subprocess.PIPE, stderr=subprocess.STDOUT, universal_newlines=True)\n",
        "\n",
        "# Print the output in real-time\n",
        "for line in process.stdout:\n",
        "    print(line, end='')\n",
        "\n",
        "# Wait for the process to finish\n",
        "process.wait()"
      ]
    },
    {
      "cell_type": "markdown",
      "metadata": {
        "id": "A010uI24xVsy"
      },
      "source": [
        "Example of generated audio path <br />\n",
        "Output generated inside \"Infer\\song_output\\random_number\"\n",
        "\n",
        "![image_2023-09-20_182238723.png](data:image/png;base64,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)"
      ]
    },
    {
      "cell_type": "markdown",
      "metadata": {
        "id": "OuAiI6ibrtYT"
      },
      "source": [
        "### Repository by [SociallyIneptWeeb](https://github.com/SociallyIneptWeeb/AICoverGen), Colab code by [ardha27](https://github.com/ardha27/AICoverGen-NoUI-Colab), Edited by ArkanDash"
      ]
    },
    {
      "cell_type": "markdown",
      "source": [
        "# New Infer (Unstable / Beta)"
      ],
      "metadata": {
        "id": "8QJ-Xlge7J-d"
      }
    },
    {
      "cell_type": "markdown",
      "source": [
        "### How to Use?\n",
        "\n",
        "1. Run the first and second cell.\n",
        "2. Wait until it's done, then run the third cell.\n",
        "3. After that you get a two link, click the public link.\n",
        "4. Use it."
      ],
      "metadata": {
        "id": "dbX4UIaYuV8U"
      }
    },
    {
      "cell_type": "code",
      "source": [
        "#@title 1. Clone Repository & Install Dependencies\n",
        "!python -m pip install -U pip wheel\n",
        "!apt-get update\n",
        "!apt-get install -qq -y aria2\n",
        "!git clone -b master https://github.com/ArkanDash/rvc-inference-new\n",
        "!pip install -r /content/rvc-inference-new/requirements.txt"
      ],
      "metadata": {
        "id": "ORYgJ1Ts7sC7",
        "colab": {
          "base_uri": "https://localhost:8080/"
        },
        "outputId": "b8bc8e7c-57ae-415b-c236-4cdd6f0efd34"
      },
      "execution_count": null,
      "outputs": [
        {
          "output_type": "stream",
          "name": "stdout",
          "text": [
            "Requirement already satisfied: pip in /usr/local/lib/python3.10/dist-packages (23.3.1)\n",
            "Requirement already satisfied: wheel in /usr/local/lib/python3.10/dist-packages (0.42.0)\n",
            "\u001b[33mDEPRECATION: omegaconf 2.0.6 has a non-standard dependency specifier PyYAML>=5.1.*. pip 24.0 will enforce this behaviour change. A possible replacement is to upgrade to a newer version of omegaconf or contact the author to suggest that they release a version with a conforming dependency specifiers. Discussion can be found at https://github.com/pypa/pip/issues/12063\u001b[0m\u001b[33m\n",
            "\u001b[0m\u001b[33mWARNING: Running pip as the 'root' user can result in broken permissions and conflicting behaviour with the system package manager. It is recommended to use a virtual environment instead: https://pip.pypa.io/warnings/venv\u001b[0m\u001b[33m\n",
            "Hit:1 https://cloud.r-project.org/bin/linux/ubuntu jammy-cran40/ InRelease\n",
            "Hit:2 https://developer.download.nvidia.com/compute/cuda/repos/ubuntu2204/x86_64  InRelease\n",
            "Hit:3 http://archive.ubuntu.com/ubuntu jammy InRelease\n",
            "Hit:4 http://security.ubuntu.com/ubuntu jammy-security InRelease\n",
            "Hit:5 http://archive.ubuntu.com/ubuntu jammy-updates InRelease\n",
            "Hit:6 http://archive.ubuntu.com/ubuntu jammy-backports InRelease\n",
            "Hit:7 https://ppa.launchpadcontent.net/c2d4u.team/c2d4u4.0+/ubuntu jammy InRelease\n",
            "Hit:8 https://ppa.launchpadcontent.net/deadsnakes/ppa/ubuntu jammy InRelease\n",
            "Hit:9 https://ppa.launchpadcontent.net/graphics-drivers/ppa/ubuntu jammy InRelease\n",
            "Hit:10 https://ppa.launchpadcontent.net/ubuntugis/ppa/ubuntu jammy InRelease\n",
            "Reading package lists... Done\n",
            "fatal: destination path 'rvc-inference-new' already exists and is not an empty directory.\n",
            "Requirement already satisfied: wheel in /usr/local/lib/python3.10/dist-packages (from -r /content/rvc-inference-new/requirements.txt (line 1)) (0.42.0)\n",
            "Requirement already satisfied: setuptools in /usr/local/lib/python3.10/dist-packages (from -r /content/rvc-inference-new/requirements.txt (line 2)) (67.7.2)\n",
            "Collecting ffmpeg (from -r /content/rvc-inference-new/requirements.txt (line 3))\n",
            "  Using cached ffmpeg-1.4.tar.gz (5.1 kB)\n",
            "  Preparing metadata (setup.py) ... \u001b[?25l\u001b[?25hdone\n",
            "Collecting numba==0.56.4 (from -r /content/rvc-inference-new/requirements.txt (line 4))\n",
            "  Using cached numba-0.56.4-cp310-cp310-manylinux2014_x86_64.manylinux_2_17_x86_64.whl (3.5 MB)\n",
            "Requirement already satisfied: numpy==1.23.5 in /usr/local/lib/python3.10/dist-packages (from -r /content/rvc-inference-new/requirements.txt (line 5)) (1.23.5)\n",
            "Collecting scipy==1.9.3 (from -r /content/rvc-inference-new/requirements.txt (line 6))\n",
            "  Using cached scipy-1.9.3-cp310-cp310-manylinux_2_17_x86_64.manylinux2014_x86_64.whl (33.7 MB)\n",
            "Requirement already satisfied: librosa==0.9.1 in /usr/local/lib/python3.10/dist-packages (from -r /content/rvc-inference-new/requirements.txt (line 7)) (0.9.1)\n",
            "Requirement already satisfied: fairseq==0.12.2 in /usr/local/lib/python3.10/dist-packages (from -r /content/rvc-inference-new/requirements.txt (line 8)) (0.12.2)\n",
            "Requirement already satisfied: faiss-cpu==1.7.3 in /usr/local/lib/python3.10/dist-packages (from -r /content/rvc-inference-new/requirements.txt (line 9)) (1.7.3)\n",
            "Collecting gradio==4.0.2 (from -r /content/rvc-inference-new/requirements.txt (line 10))\n",
            "  Using cached gradio-4.0.2-py3-none-any.whl.metadata (17 kB)\n",
            "Collecting pyworld==0.3.2 (from -r /content/rvc-inference-new/requirements.txt (line 11))\n",
            "  Using cached pyworld-0.3.2.tar.gz (214 kB)\n",
            "  Installing build dependencies ... \u001b[?25l\u001b[?25hdone\n",
            "  Getting requirements to build wheel ... \u001b[?25l\u001b[?25hdone\n",
            "  Preparing metadata (pyproject.toml) ... \u001b[?25l\u001b[?25hdone\n",
            "Requirement already satisfied: soundfile>=0.12.1 in /usr/local/lib/python3.10/dist-packages (from -r /content/rvc-inference-new/requirements.txt (line 12)) (0.12.1)\n",
            "Requirement already satisfied: praat-parselmouth>=0.4.2 in /usr/local/lib/python3.10/dist-packages (from -r /content/rvc-inference-new/requirements.txt (line 13)) (0.4.3)\n",
            "Requirement already satisfied: httpx in /usr/local/lib/python3.10/dist-packages (from -r /content/rvc-inference-new/requirements.txt (line 14)) (0.25.2)\n",
            "Collecting onnxruntime (from -r /content/rvc-inference-new/requirements.txt (line 15))\n",
            "  Using cached onnxruntime-1.16.3-cp310-cp310-manylinux_2_17_x86_64.manylinux2014_x86_64.whl.metadata (4.3 kB)\n",
            "Collecting python-dotenv>=1.0.0 (from -r /content/rvc-inference-new/requirements.txt (line 16))\n",
            "  Using cached python_dotenv-1.0.0-py3-none-any.whl (19 kB)\n",
            "Collecting fastapi==0.88 (from -r /content/rvc-inference-new/requirements.txt (line 17))\n",
            "  Using cached fastapi-0.88.0-py3-none-any.whl (55 kB)\n",
            "Requirement already satisfied: tensorboard in /usr/local/lib/python3.10/dist-packages (from -r /content/rvc-inference-new/requirements.txt (line 18)) (2.14.1)\n",
            "Collecting tensorboardX (from -r /content/rvc-inference-new/requirements.txt (line 19))\n",
            "  Using cached tensorboardX-2.6.2.2-py2.py3-none-any.whl.metadata (5.8 kB)\n",
            "Requirement already satisfied: torchcrepe in /usr/local/lib/python3.10/dist-packages (from -r /content/rvc-inference-new/requirements.txt (line 20)) (0.0.20)\n",
            "Collecting asyncio (from -r /content/rvc-inference-new/requirements.txt (line 21))\n",
            "  Using cached asyncio-3.4.3-py3-none-any.whl (101 kB)\n",
            "Collecting demucs (from -r /content/rvc-inference-new/requirements.txt (line 22))\n",
            "  Using cached demucs-4.0.1.tar.gz (1.2 MB)\n",
            "  Preparing metadata (setup.py) ... \u001b[?25l\u001b[?25hdone\n",
            "Collecting edge-tts (from -r /content/rvc-inference-new/requirements.txt (line 23))\n",
            "  Using cached edge_tts-6.1.9-py3-none-any.whl.metadata (4.3 kB)\n",
            "Requirement already satisfied: yt_dlp in /usr/local/lib/python3.10/dist-packages (from -r /content/rvc-inference-new/requirements.txt (line 24)) (2023.7.6)\n",
            "Collecting av (from -r /content/rvc-inference-new/requirements.txt (line 25))\n",
            "  Using cached av-11.0.0-cp310-cp310-manylinux_2_17_x86_64.manylinux2014_x86_64.whl.metadata (4.5 kB)\n",
            "Collecting llvmlite<0.40,>=0.39.0dev0 (from numba==0.56.4->-r /content/rvc-inference-new/requirements.txt (line 4))\n",
            "  Using cached llvmlite-0.39.1-cp310-cp310-manylinux_2_17_x86_64.manylinux2014_x86_64.whl (34.6 MB)\n",
            "Requirement already satisfied: audioread>=2.1.5 in /usr/local/lib/python3.10/dist-packages (from librosa==0.9.1->-r /content/rvc-inference-new/requirements.txt (line 7)) (3.0.1)\n",
            "Requirement already satisfied: scikit-learn>=0.19.1 in /usr/local/lib/python3.10/dist-packages (from librosa==0.9.1->-r /content/rvc-inference-new/requirements.txt (line 7)) (1.2.2)\n",
            "Requirement already satisfied: joblib>=0.14 in /usr/local/lib/python3.10/dist-packages (from librosa==0.9.1->-r /content/rvc-inference-new/requirements.txt (line 7)) (1.3.2)\n",
            "Requirement already satisfied: decorator>=4.0.10 in /usr/local/lib/python3.10/dist-packages (from librosa==0.9.1->-r /content/rvc-inference-new/requirements.txt (line 7)) (4.4.2)\n",
            "Requirement already satisfied: resampy>=0.2.2 in /usr/local/lib/python3.10/dist-packages (from librosa==0.9.1->-r /content/rvc-inference-new/requirements.txt (line 7)) (0.4.2)\n",
            "Requirement already satisfied: pooch>=1.0 in /usr/local/lib/python3.10/dist-packages (from librosa==0.9.1->-r /content/rvc-inference-new/requirements.txt (line 7)) (1.8.0)\n",
            "Requirement already satisfied: packaging>=20.0 in /usr/local/lib/python3.10/dist-packages (from librosa==0.9.1->-r /content/rvc-inference-new/requirements.txt (line 7)) (23.2)\n",
            "Requirement already satisfied: cffi in /usr/local/lib/python3.10/dist-packages (from fairseq==0.12.2->-r /content/rvc-inference-new/requirements.txt (line 8)) (1.16.0)\n",
            "Requirement already satisfied: cython in /usr/local/lib/python3.10/dist-packages (from fairseq==0.12.2->-r /content/rvc-inference-new/requirements.txt (line 8)) (3.0.6)\n",
            "Requirement already satisfied: hydra-core<1.1,>=1.0.7 in /usr/local/lib/python3.10/dist-packages (from fairseq==0.12.2->-r /content/rvc-inference-new/requirements.txt (line 8)) (1.0.7)\n",
            "Requirement already satisfied: omegaconf<2.1 in /usr/local/lib/python3.10/dist-packages (from fairseq==0.12.2->-r /content/rvc-inference-new/requirements.txt (line 8)) (2.0.6)\n",
            "Requirement already satisfied: regex in /usr/local/lib/python3.10/dist-packages (from fairseq==0.12.2->-r /content/rvc-inference-new/requirements.txt (line 8)) (2023.6.3)\n",
            "Requirement already satisfied: sacrebleu>=1.4.12 in /usr/local/lib/python3.10/dist-packages (from fairseq==0.12.2->-r /content/rvc-inference-new/requirements.txt (line 8)) (2.3.3)\n",
            "Requirement already satisfied: torch in /usr/local/lib/python3.10/dist-packages (from fairseq==0.12.2->-r /content/rvc-inference-new/requirements.txt (line 8)) (2.0.1+cu118)\n",
            "Requirement already satisfied: tqdm in /usr/local/lib/python3.10/dist-packages (from fairseq==0.12.2->-r /content/rvc-inference-new/requirements.txt (line 8)) (4.65.0)\n",
            "Requirement already satisfied: bitarray in /usr/local/lib/python3.10/dist-packages (from fairseq==0.12.2->-r /content/rvc-inference-new/requirements.txt (line 8)) (2.8.3)\n",
            "Requirement already satisfied: torchaudio>=0.8.0 in /usr/local/lib/python3.10/dist-packages (from fairseq==0.12.2->-r /content/rvc-inference-new/requirements.txt (line 8)) (2.0.2+rocm5.4.2)\n",
            "Requirement already satisfied: aiofiles<24.0,>=22.0 in /usr/local/lib/python3.10/dist-packages (from gradio==4.0.2->-r /content/rvc-inference-new/requirements.txt (line 10)) (23.2.1)\n",
            "Requirement already satisfied: altair<6.0,>=4.2.0 in /usr/local/lib/python3.10/dist-packages (from gradio==4.0.2->-r /content/rvc-inference-new/requirements.txt (line 10)) (4.2.2)\n",
            "Requirement already satisfied: ffmpy in /usr/local/lib/python3.10/dist-packages (from gradio==4.0.2->-r /content/rvc-inference-new/requirements.txt (line 10)) (0.3.1)\n",
            "Requirement already satisfied: gradio-client==0.7.0 in /usr/local/lib/python3.10/dist-packages (from gradio==4.0.2->-r /content/rvc-inference-new/requirements.txt (line 10)) (0.7.0)\n",
            "Requirement already satisfied: huggingface-hub>=0.14.0 in /usr/local/lib/python3.10/dist-packages (from gradio==4.0.2->-r /content/rvc-inference-new/requirements.txt (line 10)) (0.19.4)\n",
            "Requirement already satisfied: importlib-resources<7.0,>=1.3 in /usr/local/lib/python3.10/dist-packages (from gradio==4.0.2->-r /content/rvc-inference-new/requirements.txt (line 10)) (6.1.1)\n",
            "Requirement already satisfied: jinja2<4.0 in /usr/local/lib/python3.10/dist-packages (from gradio==4.0.2->-r /content/rvc-inference-new/requirements.txt (line 10)) (3.1.2)\n",
            "Requirement already satisfied: markupsafe~=2.0 in /usr/local/lib/python3.10/dist-packages (from gradio==4.0.2->-r /content/rvc-inference-new/requirements.txt (line 10)) (2.1.3)\n",
            "Requirement already satisfied: matplotlib~=3.0 in /usr/local/lib/python3.10/dist-packages (from gradio==4.0.2->-r /content/rvc-inference-new/requirements.txt (line 10)) (3.7.1)\n",
            "Requirement already satisfied: orjson~=3.0 in /usr/local/lib/python3.10/dist-packages (from gradio==4.0.2->-r /content/rvc-inference-new/requirements.txt (line 10)) (3.9.10)\n",
            "Requirement already satisfied: pandas<3.0,>=1.0 in /usr/local/lib/python3.10/dist-packages (from gradio==4.0.2->-r /content/rvc-inference-new/requirements.txt (line 10)) (1.5.3)\n",
            "Requirement already satisfied: pillow<11.0,>=8.0 in /usr/local/lib/python3.10/dist-packages (from gradio==4.0.2->-r /content/rvc-inference-new/requirements.txt (line 10)) (9.4.0)\n",
            "Collecting pydantic>=2.0 (from gradio==4.0.2->-r /content/rvc-inference-new/requirements.txt (line 10))\n",
            "  Using cached pydantic-2.5.2-py3-none-any.whl.metadata (65 kB)\n",
            "Requirement already satisfied: pydub in /usr/local/lib/python3.10/dist-packages (from gradio==4.0.2->-r /content/rvc-inference-new/requirements.txt (line 10)) (0.25.1)\n",
            "Requirement already satisfied: python-multipart in /usr/local/lib/python3.10/dist-packages (from gradio==4.0.2->-r /content/rvc-inference-new/requirements.txt (line 10)) (0.0.6)\n",
            "Requirement already satisfied: pyyaml<7.0,>=5.0 in /usr/local/lib/python3.10/dist-packages (from gradio==4.0.2->-r /content/rvc-inference-new/requirements.txt (line 10)) (6.0.1)\n",
            "Requirement already satisfied: requests~=2.0 in /usr/local/lib/python3.10/dist-packages (from gradio==4.0.2->-r /content/rvc-inference-new/requirements.txt (line 10)) (2.31.0)\n",
            "Requirement already satisfied: semantic-version~=2.0 in /usr/local/lib/python3.10/dist-packages (from gradio==4.0.2->-r /content/rvc-inference-new/requirements.txt (line 10)) (2.10.0)\n",
            "Collecting tomlkit==0.12.0 (from gradio==4.0.2->-r /content/rvc-inference-new/requirements.txt (line 10))\n",
            "  Using cached tomlkit-0.12.0-py3-none-any.whl.metadata (2.7 kB)\n",
            "Requirement already satisfied: typer<1.0,>=0.9 in /usr/local/lib/python3.10/dist-packages (from typer[all]<1.0,>=0.9->gradio==4.0.2->-r /content/rvc-inference-new/requirements.txt (line 10)) (0.9.0)\n",
            "Requirement already satisfied: typing-extensions~=4.0 in /usr/local/lib/python3.10/dist-packages (from gradio==4.0.2->-r /content/rvc-inference-new/requirements.txt (line 10)) (4.8.0)\n",
            "Requirement already satisfied: uvicorn>=0.14.0 in /usr/local/lib/python3.10/dist-packages (from gradio==4.0.2->-r /content/rvc-inference-new/requirements.txt (line 10)) (0.24.0.post1)\n",
            "Requirement already satisfied: websockets<12.0,>=10.0 in /usr/local/lib/python3.10/dist-packages (from gradio==4.0.2->-r /content/rvc-inference-new/requirements.txt (line 10)) (11.0.3)\n",
            "INFO: pip is looking at multiple versions of fastapi to determine which version is compatible with other requirements. This could take a while.\n",
            "\u001b[31mERROR: Cannot install -r /content/rvc-inference-new/requirements.txt (line 10) and -r /content/rvc-inference-new/requirements.txt (line 17) because these package versions have conflicting dependencies.\u001b[0m\u001b[31m\n",
            "\u001b[0m\n",
            "The conflict is caused by:\n",
            "    gradio 4.0.2 depends on pydantic>=2.0\n",
            "    fastapi 0.88.0 depends on pydantic!=1.7, !=1.7.1, !=1.7.2, !=1.7.3, !=1.8, !=1.8.1, <2.0.0 and >=1.6.2\n",
            "\n",
            "To fix this you could try to:\n",
            "1. loosen the range of package versions you've specified\n",
            "2. remove package versions to allow pip attempt to solve the dependency conflict\n",
            "\n",
            "\u001b[31mERROR: ResolutionImpossible: for help visit https://pip.pypa.io/en/latest/topics/dependency-resolution/#dealing-with-dependency-conflicts\u001b[0m\u001b[31m\n",
            "\u001b[0m"
          ]
        }
      ]
    },
    {
      "cell_type": "code",
      "source": [
        "#@title 2. Download Hubert Base, RVMPE, and Genshin AI Data\n",
        "!wget https://cdn.discordapp.com/attachments/1143928191585628230/1168925510802341959/model-dl.py\n",
        "!python model-dl.py"
      ],
      "metadata": {
        "id": "w8wKqPbAtpyo",
        "colab": {
          "base_uri": "https://localhost:8080/"
        },
        "outputId": "99a4d08a-3311-4be4-9410-2e28af82bf77"
      },
      "execution_count": null,
      "outputs": [
        {
          "output_type": "stream",
          "name": "stdout",
          "text": [
            "--2023-12-02 17:36:35--  https://cdn.discordapp.com/attachments/1143928191585628230/1168925510802341959/model-dl.py\n",
            "Resolving cdn.discordapp.com (cdn.discordapp.com)... 162.159.135.233, 162.159.133.233, 162.159.130.233, ...\n",
            "Connecting to cdn.discordapp.com (cdn.discordapp.com)|162.159.135.233|:443... connected.\n",
            "HTTP request sent, awaiting response... 200 OK\n",
            "Length: 691 [text/x-python]\n",
            "Saving to: ‘model-dl.py’\n",
            "\n",
            "model-dl.py         100%[===================>]     691  --.-KB/s    in 0s      \n",
            "\n",
            "2023-12-02 17:36:36 (443 MB/s) - ‘model-dl.py’ saved [691/691]\n",
            "\n",
            "\n",
            "Download Results:\n",
            "gid   |stat|avg speed  |path/URI\n",
            "======+====+===========+=======================================================\n",
            "ca8970|\u001b[1;32mOK\u001b[0m  |       0B/s|/content/rvc-inference-new/assets/hubert/hubert_base.pt\n",
            "\n",
            "Status Legend:\n",
            "(OK):download completed.\n",
            "\n",
            "Download Results:\n",
            "gid   |stat|avg speed  |path/URI\n",
            "======+====+===========+=======================================================\n",
            "e2a300|\u001b[1;32mOK\u001b[0m  |       0B/s|/content/rvc-inference-new/rmvpe.pt\n",
            "\n",
            "Status Legend:\n",
            "(OK):download completed.\n",
            "\n",
            "Download Results:\n",
            "gid   |stat|avg speed  |path/URI\n",
            "======+====+===========+=======================================================\n",
            "c0b63d|\u001b[1;32mOK\u001b[0m  |       0B/s|/content/rvc-inference-new/models/genshin_model.json\n",
            "\n",
            "Status Legend:\n",
            "(OK):download completed.\n"
          ]
        }
      ]
    },
    {
      "cell_type": "code",
      "source": [
        "#@title 3. Run as Gradio\n",
        "%cd /content/rvc-inference-new/\n",
        "!python inference.py --colab"
      ],
      "metadata": {
        "id": "-ukXSdio9hP0",
        "colab": {
          "base_uri": "https://localhost:8080/"
        },
        "outputId": "11f4443f-9639-427c-fd35-4a2075436c82"
      },
      "execution_count": null,
      "outputs": [
        {
          "output_type": "stream",
          "name": "stdout",
          "text": [
            "/content/rvc-inference-new\n",
            "Traceback (most recent call last):\n",
            "  File \"/content/rvc-inference-new/inference.py\", line 5, in <module>\n",
            "    from infer.modules.vc.modules import VC\n",
            "  File \"/content/rvc-inference-new/infer/modules/vc/modules.py\", line 12, in <module>\n",
            "    from infer.lib.audio import load_audio, wav2\n",
            "  File \"/content/rvc-inference-new/infer/lib/audio.py\", line 6, in <module>\n",
            "    import av\n",
            "ModuleNotFoundError: No module named 'av'\n",
            "\u001b[0m"
          ]
        }
      ]
    }
  ],
  "metadata": {
    "accelerator": "GPU",
    "colab": {
      "provenance": [],
      "include_colab_link": true
    },
    "gpuClass": "standard",
    "kernelspec": {
      "display_name": "Python 3",
      "name": "python3"
    },
    "language_info": {
      "name": "python"
    }
  },
  "nbformat": 4,
  "nbformat_minor": 0
}